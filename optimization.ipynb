{
 "nbformat": 4,
 "nbformat_minor": 2,
 "metadata": {
  "language_info": {
   "name": "python",
   "codemirror_mode": {
    "name": "ipython",
    "version": 3
   },
   "version": "3.7.4-final"
  },
  "orig_nbformat": 2,
  "file_extension": ".py",
  "mimetype": "text/x-python",
  "name": "python",
  "npconvert_exporter": "python",
  "pygments_lexer": "ipython3",
  "version": 3,
  "kernelspec": {
   "name": "python37464bitbaseconda14c6dc1aa80247b182b69cf62ec74684",
   "display_name": "Python 3.7.4 64-bit ('base': conda)"
  }
 },
 "cells": [
  {
   "cell_type": "code",
   "execution_count": 1,
   "metadata": {},
   "outputs": [],
   "source": [
    "# read data\n",
    "import xlrd\n",
    "names, coords, supply, demand = [], [], [], []\n",
    "# coord = [(lat, long)..]\n",
    "# demand = [..]\n",
    "# supply = [..]\n",
    "# data_file = open('Food_allocation.xlsx', 'r')\n",
    "wb = xlrd.open_workbook('Food_allocation.xlsx')\n",
    "sheet = wb.sheet_by_index(0)\n",
    "for i in range(1, sheet.nrows):\n",
    "    names.append(sheet.cell_value(i, 0))\n",
    "    supply.append(sheet.cell_value(i, 1))\n",
    "    demand.append(sheet.cell_value(i, 2))\n",
    "    coords.append((sheet.cell_value(i, 3), sheet.cell_value(i, 4)))\n",
    "\n",
    "def get_target_values(supply, demand, node=None):\n",
    "    adjusted_supply = [s - min(d, s) for s, d in zip(supply, demand)]\n",
    "    adjusted_demand = [d - min(d, s) for s, d in zip(supply, demand)]\n",
    "\n",
    "    supply_sum = float(sum(adjusted_supply))\n",
    "    demand_sum = float(sum(adjusted_demand))\n",
    "    # short, target = sorted(supply_tup, demand_tup, key=lembda l: l[1])\n",
    "    supply_ratio = min(demand_sum/supply_sum, 1.0)\n",
    "    demand_ratio = min((supply_sum - adjusted_demand[node])/(demand_sum - adjusted_demand[node]), 1.0)\\\n",
    "                    if node and adjusted_demand[node] <= supply_sum else min(supply_sum/demand_sum, 1.0)\n",
    "    sources = [s * supply_ratio for s in adjusted_supply]\n",
    "    targets = [d * demand_ratio for d in adjusted_demand]\n",
    "    if node: targets[node] = adjusted_demand[node]\n",
    "    \n",
    "    return sources, targets\n",
    ""
   ]
  },
  {
   "cell_type": "code",
   "execution_count": 8,
   "metadata": {},
   "outputs": [
    {
     "output_type": "stream",
     "name": "stdout",
     "text": "[0.0, 4500.0, 0.0, 0.0, 1500.0, 0.0, 0.0, 0.0, 4400.0, 3500.0, 0.0, 0.0, 0.0, 0.0, 0.0, 1100.0, 4700.0, 6000.0, 0.0, 9700.0]\n[4658.469945355191, 0.0, 1300.0, 8105.737704918033, 0.0, 1677.049180327869, 465.8469945355191, 1211.2021857923498, 0.0, 0.0, 838.5245901639345, 2515.5737704918033, 1956.5573770491803, 7267.213114754099, 559.016393442623, 0.0, 0.0, 0.0, 4844.808743169399, 0.0]\n"
    }
   ],
   "source": [
    "# prepare distance_matrix\n",
    "sources, targets = get_target_values(supply, demand, 2)\n",
    "# distance_matrix = {(i, j): dist, .. }\n",
    "distance_matrix = [[1 for s in sources] for t in targets]\n",
    "print (sources)\n",
    "print (targets)"
   ]
  },
  {
   "cell_type": "code",
   "execution_count": 3,
   "metadata": {},
   "outputs": [],
   "source": [
    "# Contraints\n",
    "from ortools.sat.python import cp_model\n",
    "from ortools.linear_solver import pywraplp\n",
    "from itertools import product\n",
    "\n",
    "#model = cp_model.CpModel()\n",
    "\n",
    "solver = pywraplp.Solver('ResourceAllocation', pywraplp.Solver.GLOP_LINEAR_PROGRAMMING)\n",
    "# sources, targets = get_target_values(supply, demand)\n",
    "\n",
    "source_upper_bound = max(sources)\n",
    "target_upper_bound = max(targets)\n",
    "\n",
    "transfers = {}\n",
    "bin_transfers = {}\n",
    "\n",
    "for i, j in product(range(len(sources)), range(len(targets))):\n",
    "    transfers[(i, j)] = solver.NumVar(0, int(source_upper_bound) + 1, 'transfer_%i_to_%i' % (i, j))\n",
    "    \n",
    "    # bin_transfers[(i, j)] = model.NewIntVar(0, 1, 'bin_transfer_%i_to_%i' % (i,j))\n",
    "    # model.Add(bin_transfers[(i, j)] <= transfers[(i, j)])\n",
    "    # model.Add(bin_transfers[(i, j)] * int(source_upper_bound) >= transfers[(i, j)])\n",
    "cons1 = {}\n",
    "cons2 = {}\n",
    "for i in range(len(sources)):\n",
    "    cons1[i] = solver.Constraint(sources[i], sources[i])\n",
    "    cons2[i] = solver.Constraint(targets[i], targets[i])\n",
    "    for j in range(len(targets)):\n",
    "        cons1[i].SetCoefficient(transfers[(i, j)], 1)\n",
    "        cons2[i].SetCoefficient(transfers[(j, i)], 1)\n",
    "    # model.Add(sources[i] >= sum(transfers[(i, j)] for j in range(len(sources))))\n",
    "    # model.Add(targets[i] <= sum(transfers[(j, i)] for j in range(len(sources))))"
   ]
  },
  {
   "cell_type": "code",
   "execution_count": 4,
   "metadata": {},
   "outputs": [],
   "source": [
    "# objective function\n",
    "objective = solver.Objective()\n",
    "# objective.SetCoefficient(x, 3)\n",
    "# objective.SetCoefficient(y, 4)\n",
    "# objective.SetMaximization()\n",
    "for i in range(len(sources)):\n",
    "    for j in range(len(targets)):\n",
    "        objective.SetCoefficient(transfers[(i, j)], distance_matrix[i][j])\n",
    "# model.Minimize(sum(transfers[(i, j)] * distance_matrix[i][j] for i in range(len(sources)) for j in range(len(targets)) ))"
   ]
  },
  {
   "cell_type": "code",
   "execution_count": 5,
   "metadata": {},
   "outputs": [],
   "source": [
    "# optimizer\n",
    "# solver = cp_model.CpSolver()\n",
    "# solver.Solve(model)\n",
    "\n",
    "solver.Solve()\n",
    "\n",
    "result = {}\n",
    "for i, j in product(range(len(sources)), range(len(targets))):\n",
    "    result[(i, j)] = transfers[(i, j)].solution_value()"
   ]
  },
  {
   "cell_type": "code",
   "execution_count": 6,
   "metadata": {},
   "outputs": [
    {
     "output_type": "stream",
     "name": "stdout",
     "text": "\n 0.0 0.0 0.0 0.0 0.0 0.0 0.0 0.0 0.0 0.0 0.0 0.0 0.0 0.0 0.0 0.0 0.0 0.0 0.0 0.0\n 0.0 0.0 0.0 4500.0 0.0 0.0 0.0 0.0 0.0 0.0 0.0 0.0 0.0 0.0 0.0 0.0 0.0 0.0 0.0 0.0\n 0.0 0.0 0.0 0.0 0.0 0.0 0.0 0.0 0.0 0.0 0.0 0.0 0.0 0.0 0.0 0.0 0.0 0.0 0.0 0.0\n 0.0 0.0 0.0 0.0 0.0 0.0 0.0 0.0 0.0 0.0 0.0 0.0 0.0 0.0 0.0 0.0 0.0 0.0 0.0 0.0\n 288.79781420765033 0.0 0.0 0.0 0.0 0.0 0.0 1211.2021857923498 0.0 0.0 0.0 0.0 0.0 0.0 0.0 0.0 0.0 0.0 0.0 0.0\n 0.0 0.0 0.0 0.0 0.0 0.0 0.0 0.0 0.0 0.0 0.0 0.0 0.0 0.0 0.0 0.0 0.0 0.0 0.0 0.0\n 0.0 0.0 0.0 0.0 0.0 0.0 0.0 0.0 0.0 0.0 0.0 0.0 0.0 0.0 0.0 0.0 0.0 0.0 0.0 0.0\n 0.0 0.0 0.0 0.0 0.0 0.0 0.0 0.0 0.0 0.0 0.0 0.0 0.0 0.0 0.0 0.0 0.0 0.0 0.0 0.0\n 0.0 0.0 0.0 0.0 0.0 655.191256830601 0.0 0.0 0.0 0.0 0.0 0.0 0.0 0.0 0.0 0.0 0.0 0.0 3744.808743169399 0.0\n 1495.9016393442625 0.0 143.71584699453575 0.0 0.0 1021.8579234972678 0.0 0.0 0.0 0.0 838.5245901639345 0.0 0.0 0.0 0.0 0.0 0.0 0.0 0.0 0.0\n 0.0 0.0 0.0 0.0 0.0 0.0 0.0 0.0 0.0 0.0 0.0 0.0 0.0 0.0 0.0 0.0 0.0 0.0 0.0 0.0\n 0.0 0.0 0.0 0.0 0.0 0.0 0.0 0.0 0.0 0.0 0.0 0.0 0.0 0.0 0.0 0.0 0.0 0.0 0.0 0.0\n 0.0 0.0 0.0 0.0 0.0 0.0 0.0 0.0 0.0 0.0 0.0 0.0 0.0 0.0 0.0 0.0 0.0 0.0 0.0 0.0\n 0.0 0.0 0.0 0.0 0.0 0.0 0.0 0.0 0.0 0.0 0.0 0.0 0.0 0.0 0.0 0.0 0.0 0.0 0.0 0.0\n 0.0 0.0 0.0 0.0 0.0 0.0 0.0 0.0 0.0 0.0 0.0 0.0 0.0 0.0 0.0 0.0 0.0 0.0 0.0 0.0\n 0.0 0.0 0.0 0.0 0.0 0.0 0.0 0.0 0.0 0.0 0.0 0.0 0.0 0.0 0.0 0.0 0.0 0.0 1100.0 0.0\n 2873.770491803278 0.0 0.0 0.0 0.0 0.0 0.0 0.0 0.0 0.0 0.0 0.0 0.0 1267.2131147540986 559.0163934426234 0.0 0.0 0.0 0.0 0.0\n 0.0 0.0 0.0 0.0 0.0 0.0 0.0 0.0 0.0 0.0 0.0 0.0 0.0 6000.0 0.0 0.0 0.0 0.0 0.0 0.0\n 0.0 0.0 0.0 0.0 0.0 0.0 0.0 0.0 0.0 0.0 0.0 0.0 0.0 0.0 0.0 0.0 0.0 0.0 0.0 0.0\n 0.0 0.0 1156.284153005464 3605.7377049180336 0.0 0.0 465.8469945355191 0.0 0.0 0.0 0.0 2515.5737704918033 1956.5573770491803 0.0 0.0 0.0 0.0 0.0 0.0 0.0\n2 to 4 tranfer 4500.0\n5 to 1 tranfer 288.79781420765033\n5 to 8 tranfer 1211.2021857923498\n9 to 6 tranfer 655.191256830601\n9 to 19 tranfer 3744.808743169399\n10 to 1 tranfer 1495.9016393442625\n10 to 3 tranfer 143.71584699453575\n10 to 6 tranfer 1021.8579234972678\n10 to 11 tranfer 838.5245901639345\n16 to 19 tranfer 1100.0\n17 to 1 tranfer 2873.770491803278\n17 to 14 tranfer 1267.2131147540986\n17 to 15 tranfer 559.0163934426234\n18 to 14 tranfer 6000.0\n20 to 3 tranfer 1156.284153005464\n20 to 4 tranfer 3605.7377049180336\n20 to 7 tranfer 465.8469945355191\n20 to 12 tranfer 2515.5737704918033\n20 to 13 tranfer 1956.5573770491803\n"
    },
    {
     "output_type": "execute_result",
     "data": {
      "text/plain": "[None,\n None,\n None,\n None,\n None,\n None,\n None,\n None,\n None,\n None,\n None,\n None,\n None,\n None,\n None,\n None,\n None,\n None,\n None]"
     },
     "metadata": {},
     "execution_count": 6
    }
   ],
   "source": [
    "# postprocess\n",
    "def print_result(results):\n",
    "    str_res = ''''''\n",
    "    for i in range(len(sources)):\n",
    "        line = ''\n",
    "        for j in range(len(sources)):\n",
    "            line += ' ' + str(result[(i, j)])\n",
    "        str_res += '\\n' + line\n",
    "    print (str_res)\n",
    "print_result(result)\n",
    "\n",
    "[print (str(i+1) + ' to ' + str(j+1) + ' tranfer '+ str(result[(i, j)])) for i, j in product(range(len(sources)), range(len(targets))) if result[(i, j)] > 0 ]"
   ]
  },
  {
   "cell_type": "code",
   "execution_count": 5,
   "metadata": {},
   "outputs": [
    {
     "output_type": "execute_result",
     "data": {
      "text/plain": "'transfer_1_to_2'"
     },
     "metadata": {},
     "execution_count": 5
    }
   ],
   "source": [
    "'transfer_%i_to_%i' % (1, 2)"
   ]
  },
  {
   "cell_type": "code",
   "execution_count": null,
   "metadata": {},
   "outputs": [],
   "source": []
  }
 ]
}